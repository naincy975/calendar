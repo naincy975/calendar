{
 "cells": [
  {
   "cell_type": "code",
   "execution_count": 1,
   "metadata": {},
   "outputs": [
    {
     "name": "stderr",
     "output_type": "stream",
     "text": [
      "WARNING: IERSStaleWarning: leap-second file is expired. [astropy.utils.iers.iers]\n"
     ]
    }
   ],
   "source": [
    "import JivaCalendar_FrontEnd as jcf\n",
    "import hvv as hvv\n",
    "import General_Vrata as gv\n",
    "import SpecialVratas as sv"
   ]
  },
  {
   "cell_type": "code",
   "execution_count": 2,
   "metadata": {},
   "outputs": [],
   "source": [
    "# the location and timezone for Vrindavan is used in this example\n",
    "lat = 27.5650\n",
    "lon = 77.6593\n",
    "tmz = 5.5\n",
    "# Calendars come is two systems, amanta and purnimanta. Most vaisnavas use purnimanta\n",
    "sys = 'purnimanta'"
   ]
  },
  {
   "cell_type": "code",
   "execution_count": 3,
   "metadata": {},
   "outputs": [
    {
     "name": "stdout",
     "output_type": "stream",
     "text": [
      "running year month: 2022 4\n",
      "finished running.                       \n",
      "running year month: 2022 5\n",
      "finished running.                       \n",
      "running year month: 2022 6\n",
      "finished running.                       \n",
      "running year month: 2022 7\n",
      "finished running.                       \n",
      "running year month: 2022 8\n",
      "finished running.                       \n",
      "running year month: 2022 9\n",
      "finished running.                       \n",
      "running year month: 2022 10\n",
      "finished running.                       \n",
      "running year month: 2022 11\n",
      "finished running.                       \n",
      "running year month: 2022 12\n",
      "finished running.                       \n",
      "running year month: 2023 1\n",
      "finished running.                       \n",
      "running year month: 2023 2\n",
      "finished running.                       \n",
      "running year month: 2023 3\n",
      "finished running.                       \n"
     ]
    }
   ],
   "source": [
    "# Here we ontain the data for the location and time we need. We'll calculate vratas using this data\n",
    "# There are a lot more customizations in the code for people who have different opinions for different vratas,\n",
    "# But here I'm presenting the most simple, straightforward example with default parameters.\n",
    "data = jcf.get_data(year_s=2022,month_s=4,year_e=2023,month_e=3,latitude=lat,longitude=lon,system=sys,verbose=True)"
   ]
  },
  {
   "cell_type": "code",
   "execution_count": 4,
   "metadata": {},
   "outputs": [
    {
     "name": "stdout",
     "output_type": "stream",
     "text": [
      "finished running.                       \n",
      "finished running.                       \n",
      "The data is now padded.\n"
     ]
    }
   ],
   "source": [
    "# Now let's pad the data in the beginning and end so that no vratas are excluded.\n",
    "# Here I pad the last one-third of Mar 2022 and first one-third of Apr 2023\n",
    "front_pad = jcf.get_month_data(year=2022,month=3,latitude=lat,longitude=lon,verbose=True,\n",
    "                               timezone_offset=tmz,section='third_third',system=sys)\n",
    "back_pad = jcf.get_month_data(year=2023,month=4,latitude=lat,longitude=lon,verbose=True,\n",
    "                               timezone_offset=tmz,section='first_third',system=sys)\n",
    "data_padded = [front_pad] + data + [back_pad]\n",
    "print(\"The data is now padded.\")"
   ]
  },
  {
   "cell_type": "code",
   "execution_count": 5,
   "metadata": {},
   "outputs": [
    {
     "name": "stdout",
     "output_type": "stream",
     "text": [
      "running month 1\n",
      "running month 2\n",
      "running month 3\n",
      "running month 4\n",
      "running month 5\n",
      "running month 6\n",
      "running month 7\n",
      "running month 8\n",
      "running month 9\n",
      "\n",
      " WARNING! There's no paksa end within the 9 following days from day1\n",
      "This could be harmless, because a tithi can be missing.\n",
      "Warning info:\n",
      "\t\tday_1 date: 2022-11-19\n",
      "\t\ttithi sequence: [25, 26, 27, 28, 29, 1, 2, 3, 4]\n",
      "running month 10\n",
      "running month 11\n",
      "running month 12\n",
      "running month 13\n",
      "done.\n"
     ]
    }
   ],
   "source": [
    "#Calculating hari vasara vrata for the given data here\n",
    "hvv_vratas = hvv.get_vrata(data=data_padded,latitude=lat,longitude=lon,timezone_offset=tmz,verbose=True)"
   ]
  },
  {
   "cell_type": "code",
   "execution_count": 6,
   "metadata": {},
   "outputs": [
    {
     "data": {
      "text/plain": [
       "{'date': datetime.date(2022, 4, 26),\n",
       " 'type': 'hvv1',\n",
       " 'naksatra yoga': None,\n",
       " 'info': 'tithi sequence is [10, 11, 11, 12, 13, 14, 15, 1, 2, 3]. The sequence is (day1_tithi,day2_dawn_tithi,day2_tithi,day3_tithi,day4_tithi,day5_tithi,day6_tithi, day7_tithi,day8_tithi,day9_tithi). Out of these, the vrata date is day 2',\n",
       " 'parana': (datetime.datetime(2022, 4, 27, 6, 42, 30, 500000, tzinfo=datetime.timezone(datetime.timedelta(0, 19800))),\n",
       "  datetime.datetime(2022, 4, 27, 10, 6, 9, 359605, tzinfo=datetime.timezone(datetime.timedelta(0, 19800))))}"
      ]
     },
     "execution_count": 6,
     "metadata": {},
     "output_type": "execute_result"
    }
   ],
   "source": [
    "# the hari vasara vratas are returned as a list of dicts. Each dict is a vrata day \n",
    "# along with all the details of that vrata. A sample is shown below\n",
    "# the \"parana\" is given in the format (parana_start,parana_end)\n",
    "# There's a whole bunch of info here but all you need really is 'date' and 'parana', and possibly 'type'\n",
    "hvv_vratas[2]"
   ]
  },
  {
   "cell_type": "code",
   "execution_count": 7,
   "metadata": {
    "scrolled": true
   },
   "outputs": [
    {
     "data": {
      "text/plain": [
       "{'gaura_purnima': [(datetime.date(2023, 3, 7),\n",
       "   datetime.datetime(2023, 3, 8, 6, 37, 18, 31529, tzinfo=datetime.timezone(datetime.timedelta(0, 19800))),\n",
       "   datetime.datetime(2023, 3, 8, 10, 32, 43, 127979, tzinfo=datetime.timezone(datetime.timedelta(0, 19800))),\n",
       "   1)],\n",
       " 'gadadhara_jayanti': [(datetime.date(2022, 4, 30),\n",
       "   datetime.datetime(2022, 5, 1, 5, 40, 36, 864433, tzinfo=datetime.timezone(datetime.timedelta(0, 19800))),\n",
       "   datetime.datetime(2022, 5, 1, 10, 4, 39, 489494, tzinfo=datetime.timezone(datetime.timedelta(0, 19800))),\n",
       "   1)],\n",
       " 'aksaya_trtiya': [(datetime.date(2022, 5, 3),\n",
       "   datetime.datetime(2022, 5, 4, 7, 33, 19, tzinfo=datetime.timezone(datetime.timedelta(0, 19800))),\n",
       "   datetime.datetime(2022, 5, 4, 10, 3, 39, 89561, tzinfo=datetime.timezone(datetime.timedelta(0, 19800))),\n",
       "   3)],\n",
       " 'nrsimha_caturdasi': [(datetime.date(2022, 5, 15),\n",
       "   datetime.datetime(2022, 5, 16, 5, 30, 22, 67971, tzinfo=datetime.timezone(datetime.timedelta(0, 19800))),\n",
       "   datetime.datetime(2022, 5, 16, 9, 44, 5, tzinfo=datetime.timezone(datetime.timedelta(0, 19800))),\n",
       "   1)],\n",
       " 'guru_purnima': [(datetime.date(2022, 7, 13),\n",
       "   datetime.datetime(2022, 7, 14, 5, 33, 17, 995587, tzinfo=datetime.timezone(datetime.timedelta(0, 19800))),\n",
       "   datetime.datetime(2022, 7, 14, 10, 7, 51, 220077, tzinfo=datetime.timezone(datetime.timedelta(0, 19800))),\n",
       "   2)],\n",
       " 'balarama_jayanti': [(datetime.date(2022, 8, 12),\n",
       "   datetime.datetime(2022, 8, 13, 5, 49, 3, 375367, tzinfo=datetime.timezone(datetime.timedelta(0, 19800))),\n",
       "   datetime.datetime(2022, 8, 13, 10, 12, 24, 815575, tzinfo=datetime.timezone(datetime.timedelta(0, 19800))),\n",
       "   7)],\n",
       " 'radhastami': [(datetime.date(2022, 9, 4),\n",
       "   datetime.datetime(2022, 9, 5, 6, 0, 11, 92081, tzinfo=datetime.timezone(datetime.timedelta(0, 19800))),\n",
       "   datetime.datetime(2022, 9, 5, 8, 28, 16, tzinfo=datetime.timezone(datetime.timedelta(0, 19800))),\n",
       "   1)],\n",
       " 'haridasa_sastri_maharaja_tirobhava': [(datetime.date(2022, 9, 27),\n",
       "   datetime.datetime(2022, 9, 28, 6, 10, 41, 181838, tzinfo=datetime.timezone(datetime.timedelta(0, 19800))),\n",
       "   datetime.datetime(2022, 9, 28, 10, 10, 10, 120412, tzinfo=datetime.timezone(datetime.timedelta(0, 19800))),\n",
       "   1)],\n",
       " 'gita_jayanti': [(datetime.date(2022, 12, 3),\n",
       "   datetime.datetime(2022, 12, 4, 6, 54, 40, 693952, tzinfo=datetime.timezone(datetime.timedelta(0, 19800))),\n",
       "   datetime.datetime(2022, 12, 4, 10, 24, 29, 546465, tzinfo=datetime.timezone(datetime.timedelta(0, 19800))),\n",
       "   1)],\n",
       " 'jiva_gosvami_tirobhava': [(datetime.date(2022, 12, 26),\n",
       "   datetime.datetime(2022, 12, 27, 7, 8, 16, 287420, tzinfo=datetime.timezone(datetime.timedelta(0, 19800))),\n",
       "   datetime.datetime(2022, 12, 27, 10, 36, 18, 148290, tzinfo=datetime.timezone(datetime.timedelta(0, 19800))),\n",
       "   6)],\n",
       " 'sarasvati_puja': [(datetime.date(2023, 1, 26),\n",
       "   datetime.datetime(2023, 1, 27, 7, 8, 32, 666541, tzinfo=datetime.timezone(datetime.timedelta(0, 19800))),\n",
       "   datetime.datetime(2023, 1, 27, 9, 10, 43, tzinfo=datetime.timezone(datetime.timedelta(0, 19800))),\n",
       "   1)],\n",
       " 'advaita_acarya_jayanti': [(datetime.date(2023, 1, 28),\n",
       "   datetime.datetime(2023, 1, 29, 7, 7, 43, 429911, tzinfo=datetime.timezone(datetime.timedelta(0, 19800))),\n",
       "   datetime.datetime(2023, 1, 29, 9, 5, 47, tzinfo=datetime.timezone(datetime.timedelta(0, 19800))),\n",
       "   1)],\n",
       " 'nityananda_jayanti': [(datetime.date(2023, 2, 3),\n",
       "   datetime.datetime(2023, 2, 4, 7, 4, 41, 691460, tzinfo=datetime.timezone(datetime.timedelta(0, 19800))),\n",
       "   datetime.datetime(2023, 2, 4, 10, 43, 49, 529367, tzinfo=datetime.timezone(datetime.timedelta(0, 19800))),\n",
       "   1)]}"
      ]
     },
     "execution_count": 7,
     "metadata": {},
     "output_type": "execute_result"
    }
   ],
   "source": [
    "# Calculating general vratas here\n",
    "# The format of each vrata is \"vrata name\": [vrata date, parana start, parana end, vrata scenario number]\n",
    "# The vrata scenario number is an internal code parameter so don't worry about that. \n",
    "gv.calculate_vrata(data,timezone_offset=tmz)"
   ]
  },
  {
   "cell_type": "code",
   "execution_count": 8,
   "metadata": {},
   "outputs": [
    {
     "data": {
      "text/plain": [
       "{'siva_ratri': [(datetime.date(2023, 2, 19),\n",
       "   datetime.datetime(2023, 2, 20, 6, 52, 57, 453256, tzinfo=datetime.timezone(datetime.timedelta(0, 19800))),\n",
       "   datetime.datetime(2023, 2, 20, 10, 39, 51, 581037, tzinfo=datetime.timezone(datetime.timedelta(0, 19800))),\n",
       "   1)],\n",
       " 'rama_navami': [(datetime.date(2022, 4, 10),\n",
       "   datetime.datetime(2022, 4, 11, 5, 59, 34, 503196, tzinfo=datetime.timezone(datetime.timedelta(0, 19800))),\n",
       "   datetime.datetime(2022, 4, 11, 10, 13, 37, 886037, tzinfo=datetime.timezone(datetime.timedelta(0, 19800))),\n",
       "   1),\n",
       "  (datetime.date(2023, 3, 30),\n",
       "   datetime.datetime(2023, 3, 31, 6, 11, 48, 945617, tzinfo=datetime.timezone(datetime.timedelta(0, 19800))),\n",
       "   datetime.datetime(2023, 3, 31, 10, 19, 50, 246139, tzinfo=datetime.timezone(datetime.timedelta(0, 19800))),\n",
       "   1)],\n",
       " 'krsna_janmastami': [(datetime.date(2022, 8, 19),\n",
       "   datetime.datetime(2022, 8, 20, 5, 52, 35, 659051, tzinfo=datetime.timezone(datetime.timedelta(0, 19800))),\n",
       "   None,\n",
       "   datetime.datetime(2022, 8, 20, 10, 12, 36, 684496, tzinfo=datetime.timezone(datetime.timedelta(0, 19800))),\n",
       "   None,\n",
       "   1)]}"
      ]
     },
     "execution_count": 8,
     "metadata": {},
     "output_type": "execute_result"
    }
   ],
   "source": [
    "# Here we calculate the special vratas\n",
    "# The format is \"vrata name\": [vrata date, parana start,alternate parana start, parana end, vrata scenario number]\n",
    "# The 'alternate parana start' is the parana time for the incapable, while the parana for the capable is 'parana start'\n",
    "# For Siva ratri and Rama navami, there is only one end time of parana, for the capable and the incapable\n",
    "# But for Krsna janmastami there is also an entry for 'parana end alternate' which is for the incapable.\n",
    "# So the format for Krsna janmastami is --\n",
    "# [vrata date, parana start, alternate parana start, parana end, parana end alternate, vrata scenario number]\n",
    "hvv_dates = [v['date'] for v in hvv_vratas]\n",
    "sv.main(data,hvv_dates,timezone_offset=tmz)"
   ]
  },
  {
   "cell_type": "code",
   "execution_count": null,
   "metadata": {},
   "outputs": [],
   "source": []
  }
 ],
 "metadata": {
  "kernelspec": {
   "display_name": "utkenv",
   "language": "python",
   "name": "utkenv"
  },
  "language_info": {
   "codemirror_mode": {
    "name": "ipython",
    "version": 3
   },
   "file_extension": ".py",
   "mimetype": "text/x-python",
   "name": "python",
   "nbconvert_exporter": "python",
   "pygments_lexer": "ipython3",
   "version": "3.6.5"
  }
 },
 "nbformat": 4,
 "nbformat_minor": 2
}
